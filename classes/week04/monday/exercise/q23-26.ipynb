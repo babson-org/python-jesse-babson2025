{
  "cells": [
    {
      "cell_type": "markdown",
      "metadata": {},
      "source": [
        "# 🧪 Lab 1 Reinforcement Exercises\n",
        "These exercises build on Lab 1 concepts: input handling, string manipulation, control flow, and basic algorithms.\n",
        "Each problem includes a full description and a code cell for your solution."
      ]
    },
    {
      "cell_type": "markdown",
      "metadata": {},
      "source": [
        "## 🟩 Exercise 25: Vowel and Consonant Counter\n",
        "**Problem:** Ask the user for a block of text. Count and display the number of vowels and consonants. Ignore non-letter characters.\n",
        "\n",
        "**Input:**\n",
        "- A string of text\n",
        "\n",
        "**Output:**\n",
        "- Number of vowels\n",
        "- Number of consonants"
      ]
    },
    {
      "cell_type": "code",
      "execution_count": 1,
      "metadata": {},
      "outputs": [
        {
          "name": "stdout",
          "output_type": "stream",
          "text": [
            "Number of Vowels: 7\n",
            "Number of consonants: 16\n"
          ]
        }
      ],
      "source": [
        "# MY INPUt\n",
        "Sentence = input(\"Enter some text:  \")\n",
        "\n",
        "\n",
        "# I only defined value because the rest will be consonants\n",
        "vowels = [\"a\",\"e\",\"i\",\"o\",\"u\"]\n",
        "\n",
        "#Count defs\n",
        "vowels_count = 0\n",
        "consonants_count = 0\n",
        "\n",
        "#Counting loop\n",
        "for char in Sentence.lower() or Sentence.upper():\n",
        "    if char in vowels:\n",
        "        vowels_count += 1\n",
        "    else:\n",
        "        consonants_count += 1\n",
        "\n",
        "#Ouput\n",
        "print('Number of Vowels:', vowels_count)\n",
        "print('Number of consonants:', consonants_count)\n",
        "\n",
        "\n",
        "\n",
        "\n",
        "\n",
        "\n",
        "\n"
      ]
    },
    {
      "cell_type": "markdown",
      "metadata": {},
      "source": [
        "## 🟩 Exercise 26: Longest Word Finder\n",
        "**Problem:** Ask the user for a sentence. Identify and print the longest word. Strip punctuation from words before comparing lengths.\n",
        "\n",
        "**Input:**\n",
        "- A sentence with words and punctuation\n",
        "\n",
        "**Output:**\n",
        "- The longest word (punctuation removed)"
      ]
    },
    {
      "cell_type": "code",
      "execution_count": 15,
      "metadata": {},
      "outputs": [
        {
          "ename": "TypeError",
          "evalue": "'int' object is not callable",
          "output_type": "error",
          "traceback": [
            "\u001b[0;31m---------------------------------------------------------------------------\u001b[0m",
            "\u001b[0;31mTypeError\u001b[0m                                 Traceback (most recent call last)",
            "Cell \u001b[0;32mIn[15], line 11\u001b[0m\n\u001b[1;32m      8\u001b[0m nopunc \u001b[38;5;241m=\u001b[39m [words\u001b[38;5;241m.\u001b[39mstrip(string\u001b[38;5;241m.\u001b[39mpunctuation) \u001b[38;5;28;01mfor\u001b[39;00m words \u001b[38;5;129;01min\u001b[39;00m sent1]\n\u001b[1;32m     10\u001b[0m \u001b[38;5;66;03m# Find longest\u001b[39;00m\n\u001b[0;32m---> 11\u001b[0m longest_word \u001b[38;5;241m=\u001b[39m \u001b[38;5;28;43mmax\u001b[39;49m\u001b[43m(\u001b[49m\u001b[43mnopunc\u001b[49m\u001b[43m,\u001b[49m\u001b[43m \u001b[49m\u001b[43mkey\u001b[49m\u001b[43m \u001b[49m\u001b[38;5;241;43m=\u001b[39;49m\u001b[43m \u001b[49m\u001b[38;5;28;43mlen\u001b[39;49m\u001b[43m(\u001b[49m\u001b[43msent1\u001b[49m\u001b[43m)\u001b[49m\u001b[43m)\u001b[49m\n\u001b[1;32m     13\u001b[0m \u001b[38;5;66;03m#Print\u001b[39;00m\n\u001b[1;32m     14\u001b[0m \u001b[38;5;28mprint\u001b[39m(\u001b[38;5;124m\"\u001b[39m\u001b[38;5;124mThe longest word!!:\u001b[39m\u001b[38;5;124m\"\u001b[39m, longest_word)\n",
            "\u001b[0;31mTypeError\u001b[0m: 'int' object is not callable"
          ]
        }
      ],
      "source": [
        "#I learned from chatgpt that I need the string function to remove punctuation\n",
        "import string\n",
        "# User input\n",
        "sent1 = input(\"Please enter a sentence: \")\n",
        "\n",
        "#Stripping words and getting rid of punctuation\n",
        "words = sent1.strip()\n",
        "nopunc = [words.strip(string.punctuation) for words in sent1]\n",
        "\n",
        "# Find longest\n",
        "longest_word = max(nopunc, key = len(sent1))\n",
        "\n",
        "#Print\n",
        "print(\"The longest word!!:\", longest_word)"
      ]
    },
    {
      "cell_type": "markdown",
      "metadata": {},
      "source": [
        "## 🟩 Exercise 27: Sentence Type Breakdown\n",
        "**Problem:** Ask the user for a block of text. Count how many sentences end with `.`, `?`, and `!`. Display a breakdown of sentence types.\n",
        "\n",
        "**Input:**\n",
        "- A block of text\n",
        "\n",
        "**Output:**\n",
        "- Total number of sentences\n",
        "- Number of declarative (.), interrogative (?), and exclamatory (!) sentences"
      ]
    },
    {
      "cell_type": "code",
      "execution_count": 3,
      "metadata": {},
      "outputs": [
        {
          "name": "stdout",
          "output_type": "stream",
          "text": [
            "Total Sentences:  3\n",
            "Declaritive Sentences:  1\n",
            "Interrogative Sentences:  1\n",
            "Exclamatory Sentences:  1\n"
          ]
        }
      ],
      "source": [
        "#Defining my sentnece variable and input\n",
        "\n",
        "sentence = input(\"Enter a block of text: \")\n",
        "\n",
        "#Using text.count() to count !, ?, !\n",
        "declarative = sentence.count(\".\")\n",
        "interrogative = sentence.count(\"?\")\n",
        "exclamatory = sentence.count(\"!\")\n",
        "\n",
        "# Counting total sentences\n",
        "total_sent = declarative + interrogative + exclamatory\n",
        "\n",
        "# Print results\n",
        "\n",
        "print(\"Total Sentences: \", total_sent)\n",
        "print(\"Declaritive Sentences: \", declarative)\n",
        "print('Interrogative Sentences: ', interrogative)\n",
        "print(\"Exclamatory Sentences: \", exclamatory)\n",
        "\n",
        "\n",
        "\n",
        "    "
      ]
    },
    {
      "cell_type": "markdown",
      "metadata": {},
      "source": [
        "## Exercise 28: Caesar Cipher Key Finder\n",
        "\n",
        "Objective: Write a program to decode a message when the key is unknown, using reasoning instead of trying all shifts.\n",
        "\n",
        "Scenario:\n",
        "-    You receive an encrypted message:\n",
        "-    Encrypted message: 'KHOOR ZRUOG'\n",
        "-    Hint: The first word is 'HELLO'\n",
        "  \n",
        "  \n",
        "Tasks:\n",
        "-    Identify the shift key\n",
        "-    Use the hint ('HELLO') to determine the number of positions the letters were shifted.\n",
        "-    Think: 'H' ? 'K', what shift was applied?\n",
        "-    Decode the full message\n",
        "-    Write a function decode_caesar(message, key) that takes the encrypted message and the key you found.\n",
        "-    Print the decrypted message."
      ]
    },
    {
      "cell_type": "code",
      "execution_count": null,
      "metadata": {},
      "outputs": [
        {
          "name": "stdout",
          "output_type": "stream",
          "text": [
            "Key found: 3\n",
            "Decrypted message: HELLO WORLD\n"
          ]
        }
      ],
      "source": [
        "def decode_caesar(message: str, key: int) -> str:\n",
        "    decoded_chars = []\n",
        "   \n",
        "   #For Loop to decode (taken mostly from lab)\n",
        "    for ch in message:\n",
        "        if 'A' <= ch <= 'Z':\n",
        "            decoded_chars.append(chr((ord(ch) - ord('A') - key) % 26 + ord('A')))\n",
        "        elif 'a' <= ch <= 'z':\n",
        "            decoded_chars.append(chr((ord(ch) - ord('a') - key) % 26 + ord('a')))\n",
        "        else:\n",
        "            decoded_chars.append(ch)\n",
        "    return ''.join(decoded_chars)\n",
        "\n",
        "# Set Message and Key\n",
        "encrypted = 'KHOOR ZRUOG'\n",
        "key = 3\n",
        "\n",
        "decrypted = decode_caesar(encrypted, key)\n",
        "print(\"Key found:\", key)\n",
        "print(\"Decrypted message:\", decrypted)"
      ]
    }
  ],
  "metadata": {
    "kernelspec": {
      "display_name": "venv (3.10.18)",
      "language": "python",
      "name": "python3"
    },
    "language_info": {
      "codemirror_mode": {
        "name": "ipython",
        "version": 3
      },
      "file_extension": ".py",
      "mimetype": "text/x-python",
      "name": "python",
      "nbconvert_exporter": "python",
      "pygments_lexer": "ipython3",
      "version": "3.10.18"
    }
  },
  "nbformat": 4,
  "nbformat_minor": 2
}
